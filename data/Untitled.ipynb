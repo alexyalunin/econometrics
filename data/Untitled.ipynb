{
 "cells": [
  {
   "cell_type": "code",
   "execution_count": 51,
   "metadata": {},
   "outputs": [],
   "source": [
    "import pandas as pd\n",
    "import numpy as np\n",
    "import sklearn\n",
    "from matplotlib import pyplot as plt\n",
    "import seaborn as sns\n",
    "%matplotlib inline\n",
    "from sklearn.feature_selection import RFE, f_regression\n",
    "from sklearn.linear_model import (LinearRegression, Ridge, Lasso, RandomizedLasso)\n",
    "from sklearn.preprocessing import MinMaxScaler\n",
    "from sklearn.ensemble import RandomForestRegressor\n",
    "from scipy.stats import gaussian_kde\n",
    "import sklearn.linear_model as lm\n",
    "from sklearn.neighbors import KNeighborsRegressor\n",
    "from sklearn.linear_model import LinearRegression\n",
    "from sklearn.linear_model import Ridge\n",
    "from sklearn.linear_model import Lasso\n",
    "\n",
    "from sklearn.metrics import mean_squared_error as MSE\n",
    "from sklearn.pipeline import Pipeline\n",
    "from sklearn.preprocessing import PolynomialFeatures\n",
    "from sklearn import cross_validation\n",
    "from sklearn.grid_search import GridSearchCV\n",
    "\n",
    "import seaborn as sns"
   ]
  },
  {
   "cell_type": "code",
   "execution_count": 63,
   "metadata": {},
   "outputs": [
    {
     "data": {
      "text/html": [
       "<div>\n",
       "<style>\n",
       "    .dataframe thead tr:only-child th {\n",
       "        text-align: right;\n",
       "    }\n",
       "\n",
       "    .dataframe thead th {\n",
       "        text-align: left;\n",
       "    }\n",
       "\n",
       "    .dataframe tbody tr th {\n",
       "        vertical-align: top;\n",
       "    }\n",
       "</style>\n",
       "<table border=\"1\" class=\"dataframe\">\n",
       "  <thead>\n",
       "    <tr style=\"text-align: right;\">\n",
       "      <th></th>\n",
       "      <th>id</th>\n",
       "      <th>date</th>\n",
       "      <th>bedrooms</th>\n",
       "      <th>bathrooms</th>\n",
       "      <th>sqft_living</th>\n",
       "      <th>sqft_lot</th>\n",
       "      <th>floors</th>\n",
       "      <th>waterfront</th>\n",
       "      <th>view</th>\n",
       "      <th>condition</th>\n",
       "      <th>...</th>\n",
       "      <th>log_sqft_lot15</th>\n",
       "      <th>log_yr_renovated</th>\n",
       "      <th>bedrooms_bathrooms</th>\n",
       "      <th>bathrooms_log_living</th>\n",
       "      <th>view_log_condition</th>\n",
       "      <th>log_grade_exp_condition</th>\n",
       "      <th>log_condition</th>\n",
       "      <th>view_bedrooms</th>\n",
       "      <th>zipcode_lat</th>\n",
       "      <th>log_price</th>\n",
       "    </tr>\n",
       "  </thead>\n",
       "  <tbody>\n",
       "    <tr>\n",
       "      <th>0</th>\n",
       "      <td>7129300520</td>\n",
       "      <td>20141013T000000</td>\n",
       "      <td>3</td>\n",
       "      <td>1.00</td>\n",
       "      <td>1180</td>\n",
       "      <td>5650</td>\n",
       "      <td>1.0</td>\n",
       "      <td>0</td>\n",
       "      <td>0</td>\n",
       "      <td>3</td>\n",
       "      <td>...</td>\n",
       "      <td>8.639411</td>\n",
       "      <td>7.608871</td>\n",
       "      <td>3.00</td>\n",
       "      <td>7.073270</td>\n",
       "      <td>0.0</td>\n",
       "      <td>39.084650</td>\n",
       "      <td>1.098612</td>\n",
       "      <td>0</td>\n",
       "      <td>4.664555e+06</td>\n",
       "      <td>12.309982</td>\n",
       "    </tr>\n",
       "    <tr>\n",
       "      <th>1</th>\n",
       "      <td>6414100192</td>\n",
       "      <td>20141209T000000</td>\n",
       "      <td>3</td>\n",
       "      <td>2.25</td>\n",
       "      <td>2570</td>\n",
       "      <td>7242</td>\n",
       "      <td>2.0</td>\n",
       "      <td>0</td>\n",
       "      <td>0</td>\n",
       "      <td>3</td>\n",
       "      <td>...</td>\n",
       "      <td>8.941022</td>\n",
       "      <td>3.218876</td>\n",
       "      <td>6.75</td>\n",
       "      <td>17.666238</td>\n",
       "      <td>0.0</td>\n",
       "      <td>39.084650</td>\n",
       "      <td>1.098612</td>\n",
       "      <td>0</td>\n",
       "      <td>4.682623e+06</td>\n",
       "      <td>13.195614</td>\n",
       "    </tr>\n",
       "    <tr>\n",
       "      <th>2</th>\n",
       "      <td>5631500400</td>\n",
       "      <td>20150225T000000</td>\n",
       "      <td>2</td>\n",
       "      <td>1.00</td>\n",
       "      <td>770</td>\n",
       "      <td>10000</td>\n",
       "      <td>1.0</td>\n",
       "      <td>0</td>\n",
       "      <td>0</td>\n",
       "      <td>3</td>\n",
       "      <td>...</td>\n",
       "      <td>8.994917</td>\n",
       "      <td>7.608871</td>\n",
       "      <td>2.00</td>\n",
       "      <td>6.646391</td>\n",
       "      <td>0.0</td>\n",
       "      <td>35.988451</td>\n",
       "      <td>1.098612</td>\n",
       "      <td>0</td>\n",
       "      <td>4.679651e+06</td>\n",
       "      <td>12.100712</td>\n",
       "    </tr>\n",
       "    <tr>\n",
       "      <th>3</th>\n",
       "      <td>2487200875</td>\n",
       "      <td>20141209T000000</td>\n",
       "      <td>4</td>\n",
       "      <td>3.00</td>\n",
       "      <td>1960</td>\n",
       "      <td>5000</td>\n",
       "      <td>1.0</td>\n",
       "      <td>0</td>\n",
       "      <td>0</td>\n",
       "      <td>5</td>\n",
       "      <td>...</td>\n",
       "      <td>8.517193</td>\n",
       "      <td>7.608871</td>\n",
       "      <td>12.00</td>\n",
       "      <td>22.742099</td>\n",
       "      <td>0.0</td>\n",
       "      <td>288.798673</td>\n",
       "      <td>1.609438</td>\n",
       "      <td>0</td>\n",
       "      <td>4.663501e+06</td>\n",
       "      <td>13.311329</td>\n",
       "    </tr>\n",
       "    <tr>\n",
       "      <th>4</th>\n",
       "      <td>1954400510</td>\n",
       "      <td>20150218T000000</td>\n",
       "      <td>3</td>\n",
       "      <td>2.00</td>\n",
       "      <td>1680</td>\n",
       "      <td>8080</td>\n",
       "      <td>1.0</td>\n",
       "      <td>0</td>\n",
       "      <td>0</td>\n",
       "      <td>3</td>\n",
       "      <td>...</td>\n",
       "      <td>8.923058</td>\n",
       "      <td>7.608871</td>\n",
       "      <td>6.00</td>\n",
       "      <td>14.853098</td>\n",
       "      <td>0.0</td>\n",
       "      <td>41.766700</td>\n",
       "      <td>1.098612</td>\n",
       "      <td>0</td>\n",
       "      <td>4.669970e+06</td>\n",
       "      <td>13.142166</td>\n",
       "    </tr>\n",
       "  </tbody>\n",
       "</table>\n",
       "<p>5 rows × 39 columns</p>\n",
       "</div>"
      ],
      "text/plain": [
       "           id             date  bedrooms  bathrooms  sqft_living  sqft_lot  \\\n",
       "0  7129300520  20141013T000000         3       1.00         1180      5650   \n",
       "1  6414100192  20141209T000000         3       2.25         2570      7242   \n",
       "2  5631500400  20150225T000000         2       1.00          770     10000   \n",
       "3  2487200875  20141209T000000         4       3.00         1960      5000   \n",
       "4  1954400510  20150218T000000         3       2.00         1680      8080   \n",
       "\n",
       "   floors  waterfront  view  condition    ...      log_sqft_lot15  \\\n",
       "0     1.0           0     0          3    ...            8.639411   \n",
       "1     2.0           0     0          3    ...            8.941022   \n",
       "2     1.0           0     0          3    ...            8.994917   \n",
       "3     1.0           0     0          5    ...            8.517193   \n",
       "4     1.0           0     0          3    ...            8.923058   \n",
       "\n",
       "   log_yr_renovated  bedrooms_bathrooms  bathrooms_log_living  \\\n",
       "0          7.608871                3.00              7.073270   \n",
       "1          3.218876                6.75             17.666238   \n",
       "2          7.608871                2.00              6.646391   \n",
       "3          7.608871               12.00             22.742099   \n",
       "4          7.608871                6.00             14.853098   \n",
       "\n",
       "   view_log_condition  log_grade_exp_condition  log_condition  view_bedrooms  \\\n",
       "0                 0.0                39.084650       1.098612              0   \n",
       "1                 0.0                39.084650       1.098612              0   \n",
       "2                 0.0                35.988451       1.098612              0   \n",
       "3                 0.0               288.798673       1.609438              0   \n",
       "4                 0.0                41.766700       1.098612              0   \n",
       "\n",
       "    zipcode_lat  log_price  \n",
       "0  4.664555e+06  12.309982  \n",
       "1  4.682623e+06  13.195614  \n",
       "2  4.679651e+06  12.100712  \n",
       "3  4.663501e+06  13.311329  \n",
       "4  4.669970e+06  13.142166  \n",
       "\n",
       "[5 rows x 39 columns]"
      ]
     },
     "execution_count": 63,
     "metadata": {},
     "output_type": "execute_result"
    }
   ],
   "source": [
    "# https://github.com/alexyalunin/econometrics/blob/master/data/kc_house_data_new.xls\n",
    "data = pd.read_excel(\"kc_house_data.xls\")\n",
    "prices = data['price']\n",
    "data = data.drop('price', axis=1)\n",
    "data.head()"
   ]
  },
  {
   "cell_type": "code",
   "execution_count": 35,
   "metadata": {},
   "outputs": [
    {
     "name": "stdout",
     "output_type": "stream",
     "text": [
      "bedrooms                   False\n",
      "bathrooms                  False\n",
      "sqft_living                False\n",
      "sqft_lot                   False\n",
      "floors                     False\n",
      "waterfront                 False\n",
      "view                       False\n",
      "condition                  False\n",
      "grade                      False\n",
      "sqft_above                 False\n",
      "sqft_basement              False\n",
      "yr_built                   False\n",
      "yr_renovated               False\n",
      "zipcode                    False\n",
      "lat                        False\n",
      "long                       False\n",
      "sqft_living15              False\n",
      "sqft_lot15                 False\n",
      "log_sqft_living            False\n",
      "log_bedrooms               False\n",
      "exp_bathrooms              False\n",
      "log_lat                    False\n",
      "log_zipcode                False\n",
      "log_long                   False\n",
      "log_view                   False\n",
      "log_sqft_above             False\n",
      "log_sqft_basement          False\n",
      "log_sqft_lot15             False\n",
      "log_yr_renovated           False\n",
      "bedrooms_bathrooms         False\n",
      "bathrooms_log_living       False\n",
      "view_log_condition         False\n",
      "log_grade_exp_condition    False\n",
      "log_condition              False\n",
      "view_bedrooms              False\n",
      "zipcode_lat                False\n",
      "log_price                  False\n",
      "dtype: bool\n",
      "bedrooms                     int64\n",
      "bathrooms                  float64\n",
      "sqft_living                  int64\n",
      "sqft_lot                     int64\n",
      "floors                     float64\n",
      "waterfront                   int64\n",
      "view                         int64\n",
      "condition                    int64\n",
      "grade                        int64\n",
      "sqft_above                   int64\n",
      "sqft_basement                int64\n",
      "yr_built                     int64\n",
      "yr_renovated                 int64\n",
      "zipcode                      int64\n",
      "lat                        float64\n",
      "long                       float64\n",
      "sqft_living15                int64\n",
      "sqft_lot15                   int64\n",
      "log_sqft_living            float64\n",
      "log_bedrooms               float64\n",
      "exp_bathrooms              float64\n",
      "log_lat                    float64\n",
      "log_zipcode                float64\n",
      "log_long                   float64\n",
      "log_view                   float64\n",
      "log_sqft_above             float64\n",
      "log_sqft_basement          float64\n",
      "log_sqft_lot15             float64\n",
      "log_yr_renovated           float64\n",
      "bedrooms_bathrooms         float64\n",
      "bathrooms_log_living       float64\n",
      "view_log_condition         float64\n",
      "log_grade_exp_condition    float64\n",
      "log_condition              float64\n",
      "view_bedrooms                int64\n",
      "zipcode_lat                float64\n",
      "log_price                  float64\n",
      "dtype: object\n"
     ]
    }
   ],
   "source": [
    "data = data.iloc[:,2:]\n",
    "# Looking for nulls\n",
    "print(data.isnull().any())\n",
    "# Inspecting type\n",
    "print(data.dtypes)"
   ]
  },
  {
   "cell_type": "code",
   "execution_count": 36,
   "metadata": {},
   "outputs": [
    {
     "data": {
      "text/plain": [
       "Index(['bedrooms', 'bathrooms', 'sqft_living', 'sqft_lot', 'floors',\n",
       "       'waterfront', 'view', 'condition', 'grade', 'sqft_above',\n",
       "       'sqft_basement', 'yr_built', 'yr_renovated', 'zipcode', 'lat', 'long',\n",
       "       'sqft_living15', 'sqft_lot15', 'log_sqft_living', 'log_bedrooms',\n",
       "       'exp_bathrooms', 'log_lat', 'log_zipcode', 'log_long', 'log_view',\n",
       "       'log_sqft_above', 'log_sqft_basement', 'log_sqft_lot15',\n",
       "       'log_yr_renovated', 'bedrooms_bathrooms', 'bathrooms_log_living',\n",
       "       'view_log_condition', 'log_grade_exp_condition', 'log_condition',\n",
       "       'view_bedrooms', 'zipcode_lat', 'log_price'],\n",
       "      dtype='object')"
      ]
     },
     "execution_count": 36,
     "metadata": {},
     "output_type": "execute_result"
    }
   ],
   "source": [
    "data.columns"
   ]
  },
  {
   "cell_type": "code",
   "execution_count": 37,
   "metadata": {},
   "outputs": [],
   "source": [
    "# with sns.plotting_context(\"notebook\",font_scale=2.5):\n",
    "#     g = sns.pairplot(house[['price', 'bedrooms', 'bathrooms', 'sqft_living', 'sqft_lot', 'floors',\n",
    "#        'waterfront', 'view', 'condition', 'grade', 'sqft_above',\n",
    "#        'sqft_basement', 'yr_built', 'yr_renovated', 'zipcode', 'lat', 'long',\n",
    "#        'sqft_living15', 'sqft_lot15']], \n",
    "#                  hue='floors', palette='tab20',size=6)\n",
    "# g.set(xticklabels=[]);"
   ]
  },
  {
   "cell_type": "code",
   "execution_count": null,
   "metadata": {},
   "outputs": [],
   "source": [
    "# with sns.plotting_context(\"notebook\",font_scale=2.5):\n",
    "#     g = sns.pairplot(house[['floors','bedrooms','bathrooms','grade','waterfront','view','condition']], \n",
    "#                  hue='grade', palette='tab20',size=6)\n",
    "# g.set(xticklabels=[]);"
   ]
  },
  {
   "cell_type": "code",
   "execution_count": 61,
   "metadata": {},
   "outputs": [],
   "source": [
    "# with sns.plotting_context(\"notebook\",font_scale=2.5):\n",
    "#     g = sns.pairplot(house[['sqft_lot','sqft_above','price','sqft_living','bedrooms']], \n",
    "#                  hue='bedrooms', palette='tab20',size=6)\n",
    "# g.set(xticklabels=[]);\n",
    "# with sns.plotting_context(\"notebook\",font_scale=2.5):\n",
    "#     g = sns.pairplot(data=house,\n",
    "#                   y_vars=['price'],\n",
    "#                   x_vars=['bedrooms', 'bathrooms', 'sqft_living', 'sqft_lot'], palette='tab20', size=6, kind='reg', plot_kws={'line_kws':{'color':'green'}, 'scatter_kws': {'alpha': 0.1}})\n",
    "#     g1 = sns.pairplot(data=house,\n",
    "#                   y_vars=['price'],\n",
    "#                   x_vars=['floors', 'view', 'condition', 'grade'], palette='tab20', size=6, kind='reg', plot_kws={'line_kws':{'color':'green'}, 'scatter_kws': {'alpha': 0.1}})\n",
    "#     g2 = sns.pairplot(data=house,\n",
    "#                   y_vars=['price'],\n",
    "#                   x_vars=['sqft_above','sqft_basement', 'yr_built', 'yr_renovated'], palette='tab20', size=6, kind='reg', plot_kws={'line_kws':{'color':'green'}, 'scatter_kws': {'alpha': 0.1}})\n",
    "#     g3 = sns.pairplot(data=house,\n",
    "#                   y_vars=['price'],\n",
    "#                   x_vars=['sqft_living15', 'sqft_lot15'], palette='tab20', size=6, kind='reg', plot_kws={'line_kws':{'color':'green'}, 'scatter_kws': {'alpha': 0.1}})\n",
    "# g.set(xticklabels=[]);\n",
    "# g1.set(xticklabels=[]);\n",
    "# g2.set(xticklabels=[]);\n",
    "# g3.set(xticklabels=[]);\n",
    "# with sns.plotting_context(\"notebook\"):\n",
    "#     g = sns.pairplot(data=house,\n",
    "#                   y_vars=['price'],\n",
    "#                   x_vars=['price'], palette='tab20', size=6, kind='reg', plot_kws={'line_kws':{'color':'green'}, 'scatter_kws': {'alpha': 0.1}})\n",
    "\n",
    "# g.set(xticklabels=[]);\n",
    "# markerSize = 1\n",
    "# df = house[[\"price\", \"sqft_living\"]]\n",
    "# plt.scatter(df.price, df.sqft_living, c=\"darkgreen\", marker=\"v\", s=markerSize, alpha=.1)\n",
    "# plt.title('Correlation between age and fare')\n",
    "# plt.xlabel('Age of a passenger')\n",
    "# plt.ylabel('Fare paid')\n",
    "# plt.show()\n",
    "\n",
    "\n",
    "# # Generate fake data\n",
    "# x = data['log_sqft_living']\n",
    "# y = data['log_price']\n",
    "\n",
    "\n",
    "\n",
    "# xy = np.vstack([x,y])\n",
    "# z = gaussian_kde(xy)(xy)\n",
    "\n",
    "# fig, ax = plt.subplots()\n",
    "# ax.scatter(x, y, c=z, s=10, edgecolor='')\n",
    "# plt.xlabel('log_sqft_living')\n",
    "# plt.ylabel('log_price')\n",
    "# plt.show()"
   ]
  },
  {
   "cell_type": "code",
   "execution_count": 59,
   "metadata": {},
   "outputs": [],
   "source": [
    "# with sns.plotting_context(\"notebook\",font_scale=2.5):\n",
    "#     g = sns.pairplot(data=house,\n",
    "#                   y_vars=['price'],\n",
    "#                   x_vars=['bedrooms', 'bathrooms', 'sqft_living', 'sqft_lot'], palette='tab20', size=6, kind='reg', plot_kws={'line_kws':{'color':'green'}, 'scatter_kws': {'alpha': 0.1}})\n",
    "# g.set(xticklabels=[]);"
   ]
  },
  {
   "cell_type": "code",
   "execution_count": 60,
   "metadata": {},
   "outputs": [],
   "source": [
    "# str_list = [] # empty list to contain columns with strings (words)\n",
    "# for colname, colvalue in house.iteritems():\n",
    "#     if type(colvalue[1]) == str:\n",
    "#          str_list.append(colname)\n",
    "# # Get to the numeric columns by inversion            \n",
    "# num_list = house.columns.difference(str_list) \n",
    "# # Create Dataframe containing only numerical features\n",
    "# house_num = house[num_list]\n",
    "# f, ax = plt.subplots(figsize=(16, 12))\n",
    "# plt.title('Pearson Correlation of features')\n",
    "# # Draw the heatmap using seaborn\n",
    "# #sns.heatmap(house_num.astype(float).corr(),linewidths=0.25,vmax=1.0, square=True, cmap=\"PuBuGn\", linecolor='k', annot=True)\n",
    "# sns.heatmap(house_num.astype(float).corr(),linewidths=0.25,vmax=1.0, square=True, cmap=\"PuBuGn\", linecolor='k', annot=True)"
   ]
  },
  {
   "cell_type": "code",
   "execution_count": 40,
   "metadata": {
    "collapsed": true
   },
   "outputs": [],
   "source": [
    "data = data.fillna(data.mean())\n",
    "\n",
    "data = data.reindex(np.random.permutation(data.index))\n",
    "data_train, data_validate, data_test = np.array_split(data, 3)\n",
    "\n",
    "X_train = data_train.iloc[:,:-1]\n",
    "y_train = data_train.iloc[:,-1]\n",
    "X_validate = data_validate.iloc[:,:-1]\n",
    "y_validate = data_validate.iloc[:,-1]\n",
    "X_test = data_test.iloc[:,:-1]\n",
    "y_test = data_test.iloc[:,-1]\n",
    "\n",
    "X_train_new = np.concatenate([X_train, X_validate], axis=0)\n",
    "y_train_new = np.concatenate([y_train, y_validate], axis=0)"
   ]
  },
  {
   "cell_type": "code",
   "execution_count": 47,
   "metadata": {},
   "outputs": [
    {
     "data": {
      "text/plain": [
       "0.061257995013975566"
      ]
     },
     "execution_count": 47,
     "metadata": {},
     "output_type": "execute_result"
    }
   ],
   "source": [
    "LR = lm.LinearRegression()\n",
    "LR.fit(X_train_new, y_train_new)\n",
    "y_pred = LR.predict(X_test)\n",
    "e = MSE(y_test, y_pred)\n",
    "e"
   ]
  },
  {
   "cell_type": "code",
   "execution_count": 48,
   "metadata": {},
   "outputs": [
    {
     "name": "stdout",
     "output_type": "stream",
     "text": [
      "For Ridge: \n",
      "[mean: 0.77662, std: 0.00090, params: {'alpha': 0.0001}, mean: 0.77660, std: 0.00093, params: {'alpha': 0.01}, mean: 0.77686, std: 0.00100, params: {'alpha': 1}, mean: 0.77669, std: 0.00105, params: {'alpha': 10}, mean: 0.77339, std: 0.00118, params: {'alpha': 100}, mean: 0.77170, std: 0.00113, params: {'alpha': 200}, mean: 0.69115, std: 0.00464, params: {'alpha': 1000000}]\n",
      "{'alpha': 1}\n"
     ]
    },
    {
     "name": "stderr",
     "output_type": "stream",
     "text": [
      "/Users/Alexander/anaconda3/lib/python3.6/site-packages/sklearn/linear_model/coordinate_descent.py:491: ConvergenceWarning: Objective did not converge. You might want to increase the number of iterations. Fitting data with very small alpha may cause precision problems.\n",
      "  ConvergenceWarning)\n",
      "/Users/Alexander/anaconda3/lib/python3.6/site-packages/sklearn/linear_model/coordinate_descent.py:491: ConvergenceWarning: Objective did not converge. You might want to increase the number of iterations. Fitting data with very small alpha may cause precision problems.\n",
      "  ConvergenceWarning)\n",
      "/Users/Alexander/anaconda3/lib/python3.6/site-packages/sklearn/linear_model/coordinate_descent.py:491: ConvergenceWarning: Objective did not converge. You might want to increase the number of iterations. Fitting data with very small alpha may cause precision problems.\n",
      "  ConvergenceWarning)\n",
      "/Users/Alexander/anaconda3/lib/python3.6/site-packages/sklearn/linear_model/coordinate_descent.py:491: ConvergenceWarning: Objective did not converge. You might want to increase the number of iterations. Fitting data with very small alpha may cause precision problems.\n",
      "  ConvergenceWarning)\n",
      "/Users/Alexander/anaconda3/lib/python3.6/site-packages/sklearn/linear_model/coordinate_descent.py:491: ConvergenceWarning: Objective did not converge. You might want to increase the number of iterations. Fitting data with very small alpha may cause precision problems.\n",
      "  ConvergenceWarning)\n",
      "/Users/Alexander/anaconda3/lib/python3.6/site-packages/sklearn/linear_model/coordinate_descent.py:491: ConvergenceWarning: Objective did not converge. You might want to increase the number of iterations. Fitting data with very small alpha may cause precision problems.\n",
      "  ConvergenceWarning)\n"
     ]
    },
    {
     "name": "stdout",
     "output_type": "stream",
     "text": [
      "For Lasso: \n",
      "[mean: 0.77686, std: 0.00103, params: {'alpha': 0.0001}, mean: 0.76450, std: 0.00041, params: {'alpha': 0.01}, mean: 0.68655, std: 0.00217, params: {'alpha': 1}, mean: 0.67057, std: 0.00228, params: {'alpha': 10}, mean: 0.60730, std: 0.00504, params: {'alpha': 100}, mean: 0.47619, std: 0.00531, params: {'alpha': 200}, mean: -0.00043, std: 0.00031, params: {'alpha': 1000000}]\n",
      "{'alpha': 0.0001}\n"
     ]
    },
    {
     "name": "stderr",
     "output_type": "stream",
     "text": [
      "/Users/Alexander/anaconda3/lib/python3.6/site-packages/sklearn/linear_model/coordinate_descent.py:491: ConvergenceWarning: Objective did not converge. You might want to increase the number of iterations. Fitting data with very small alpha may cause precision problems.\n",
      "  ConvergenceWarning)\n"
     ]
    }
   ],
   "source": [
    "ridge = lm.Ridge()\n",
    "gs = GridSearchCV(ridge, {'alpha': [0.0001, 0.01, 1, 10, 100, 200, 1000000]},)\n",
    "gs.fit(X_validate, y_validate)\n",
    "\n",
    "print(\"For Ridge: \")\n",
    "print(gs.grid_scores_)\n",
    "print(gs.best_params_)\n",
    "\n",
    "las = lm.Lasso()\n",
    "gs2 = GridSearchCV(las, {'alpha': [0.0001, 0.01, 1, 10, 100, 200, 1000000]},)\n",
    "gs2.fit(X_validate, y_validate)\n",
    "\n",
    "print(\"For Lasso: \")\n",
    "print(gs2.grid_scores_)\n",
    "print(gs2.best_params_)"
   ]
  },
  {
   "cell_type": "code",
   "execution_count": 49,
   "metadata": {},
   "outputs": [
    {
     "name": "stdout",
     "output_type": "stream",
     "text": [
      "For Ridge: \n",
      "0.061476487805\n",
      "[  8.97003617e-03  -1.80485188e-01   1.48100241e-05   5.99646546e-07\n",
      "   2.40047104e-02   4.47654455e-01   2.04809831e-02  -2.20031405e-03\n",
      "   1.47145279e-01   2.26849138e-05  -7.87626898e-06  -3.39171275e-03\n",
      "  -1.35547235e-04  -1.35907292e-03   8.45268465e-03  -1.21361146e-01\n",
      "   1.09552569e-04   8.26628098e-07   1.18916506e-01  -9.84756040e-02\n",
      "  -1.75111545e-04  -4.66937756e-26   2.33468878e-26   9.33875511e-26\n",
      "   5.01740918e-02   1.45126813e-01   5.83314093e-03  -7.69672114e-02\n",
      "  -6.86565450e-02  -9.61547698e-04   3.09644379e-02   2.59715985e-02\n",
      "   1.54250154e-04   1.96775395e-01  -5.98963168e-03   1.39344610e-05]\n",
      "For Lasso: \n",
      "0.0615239312183\n",
      "[ -0.00000000e+00  -5.61288901e-03   2.18851017e-04   5.93875080e-07\n",
      "   2.24596194e-02   4.33225678e-01   1.87024952e-02   5.92955573e-02\n",
      "   1.48220584e-01  -1.49412320e-04  -1.83072667e-04  -3.42071719e-03\n",
      "  -1.29133386e-04  -1.34862183e-03   0.00000000e+00  -1.12188014e-01\n",
      "   1.08991418e-04   8.18274259e-07   1.01709910e-01  -7.28394668e-02\n",
      "  -1.49530480e-04  -0.00000000e+00   0.00000000e+00   0.00000000e+00\n",
      "   4.41809978e-02   1.42696714e-01   5.88048778e-03  -7.64745018e-02\n",
      "  -6.61295189e-02   7.36300615e-04   7.39927990e-03   2.99445858e-02\n",
      "   2.42208577e-05   1.88849867e-02  -5.61938781e-03   1.40208061e-05]\n"
     ]
    },
    {
     "name": "stderr",
     "output_type": "stream",
     "text": [
      "/Users/Alexander/anaconda3/lib/python3.6/site-packages/sklearn/linear_model/coordinate_descent.py:491: ConvergenceWarning: Objective did not converge. You might want to increase the number of iterations. Fitting data with very small alpha may cause precision problems.\n",
      "  ConvergenceWarning)\n"
     ]
    }
   ],
   "source": [
    "best_alpha_ridge = gs.best_params_['alpha']\n",
    "best_alpha_lasso = gs2.best_params_['alpha']\n",
    "\n",
    "ridge = lm.Ridge(alpha = best_alpha_ridge)\n",
    "ridge.fit(X_train_new, y_train_new)\n",
    "y_pred_ridge = ridge.predict(X_test)\n",
    "err_ridge = MSE(y_pred_ridge, y_test)\n",
    "\n",
    "lasso = lm.Lasso(alpha = best_alpha_lasso)\n",
    "lasso.fit(X_train_new, y_train_new)\n",
    "y_pred_lasso = lasso.predict(X_test)\n",
    "err_lasso = MSE(y_pred_lasso, y_test)\n",
    "\n",
    "print(\"For Ridge: \")\n",
    "print(err_ridge)\n",
    "print(ridge.coef_)\n",
    "\n",
    "print(\"For Lasso: \")\n",
    "print(err_lasso)\n",
    "print(lasso.coef_)"
   ]
  },
  {
   "cell_type": "code",
   "execution_count": 52,
   "metadata": {},
   "outputs": [
    {
     "data": {
      "text/plain": [
       "0.073399244160856317"
      ]
     },
     "execution_count": 52,
     "metadata": {},
     "output_type": "execute_result"
    }
   ],
   "source": [
    "clf = sklearn.neighbors.KNeighborsRegressor(n_neighbors=10)\n",
    "clf.fit(X_train_new, y_train_new)\n",
    "y_pred = clf.predict(X_test)\n",
    "e = MSE(y_test, y_pred)\n",
    "e"
   ]
  },
  {
   "cell_type": "code",
   "execution_count": 53,
   "metadata": {},
   "outputs": [
    {
     "name": "stdout",
     "output_type": "stream",
     "text": [
      "12\n",
      "1\n"
     ]
    }
   ],
   "source": [
    "knr = KNeighborsRegressor(metric='minkowski')\n",
    "n_neighbors = np.arange(1,30)\n",
    "p = np.array((1,2))\n",
    "params = {'n_neighbors' : n_neighbors, 'p' : p}\n",
    "\n",
    "gscv = GridSearchCV(knr, params, scoring = 'neg_mean_squared_error')\n",
    "\n",
    "gscv.fit(X_train_new, y_train_new)\n",
    "gscv_best_n = gscv.best_params_['n_neighbors']\n",
    "gscv_best_p = gscv.best_params_['p']\n",
    "print(gscv_best_n)\n",
    "print(gscv_best_p)"
   ]
  },
  {
   "cell_type": "code",
   "execution_count": 54,
   "metadata": {},
   "outputs": [
    {
     "data": {
      "text/plain": [
       "0.063225291797438452"
      ]
     },
     "execution_count": 54,
     "metadata": {},
     "output_type": "execute_result"
    }
   ],
   "source": [
    "knr = KNeighborsRegressor(metric='minkowski', n_neighbors = gscv_best_n, p = gscv_best_p)\n",
    "knr.fit(X_train_new, y_train_new)\n",
    "y_pred = knr.predict(X_test)\n",
    "err = MSE(y_pred, y_test)\n",
    "err"
   ]
  },
  {
   "cell_type": "code",
   "execution_count": null,
   "metadata": {
    "collapsed": true
   },
   "outputs": [],
   "source": []
  }
 ],
 "metadata": {
  "kernelspec": {
   "display_name": "Python 3",
   "language": "python",
   "name": "python3"
  },
  "language_info": {
   "codemirror_mode": {
    "name": "ipython",
    "version": 3
   },
   "file_extension": ".py",
   "mimetype": "text/x-python",
   "name": "python",
   "nbconvert_exporter": "python",
   "pygments_lexer": "ipython3",
   "version": "3.6.3"
  }
 },
 "nbformat": 4,
 "nbformat_minor": 2
}
